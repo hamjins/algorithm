{
  "nbformat": 4,
  "nbformat_minor": 0,
  "metadata": {
    "colab": {
      "name": "Inception모듈 이미지분류기 실습.ipynb",
      "version": "0.3.2",
      "provenance": [],
      "private_outputs": true,
      "collapsed_sections": [],
      "include_colab_link": true
    },
    "kernelspec": {
      "name": "python3",
      "display_name": "Python 3"
    }
  },
  "cells": [
    {
      "cell_type": "markdown",
      "metadata": {
        "id": "view-in-github",
        "colab_type": "text"
      },
      "source": [
        "<a href=\"https://colab.research.google.com/github/hamjins/algorithm/blob/master/Inception%EB%AA%A8%EB%93%88_%EC%9D%B4%EB%AF%B8%EC%A7%80%EB%B6%84%EB%A5%98%EA%B8%B0_%EC%8B%A4%EC%8A%B5.ipynb\" target=\"_parent\"><img src=\"https://colab.research.google.com/assets/colab-badge.svg\" alt=\"Open In Colab\"/></a>"
      ]
    },
    {
      "metadata": {
        "id": "atALw_hDrMjT",
        "colab_type": "text"
      },
      "cell_type": "markdown",
      "source": [
        "## Inception Module을 활용한 이미지 분류기\n",
        "\n",
        "GooLeNet을 구현할 때 사용한 Inception 모듈을 사용하여 만든 간단한 이미지 분류기를 실행\n",
        "\n",
        "텐서플로우와 Inception모듈은 구글에서 개발하고 공개했으며, 텐서플로우 사이트를 통해 누구나 쉽게 접할 수 있도록 되어 있음\n",
        "\n",
        "Inception-v3를 활용하며 1000개의 정답 레이블  을 가지는 ImageNet 대회를 위해 이미 학습된 모델을 불러온 후, 입력한 이미지가 무엇인지 추론\n",
        "\n",
        "그 결과 정답일 가능성이 높은 5개를 출력\n",
        "\n",
        "[원본경로]\n",
        "https://github.com/tensorflow/models/tree/master/tutorials/image/imagenet\n",
        "\n",
        "\n",
        "미리 학습된 모델을 다운받기 위해서는 약 200MByte 정도의 하드디스크 공간이 필요하며 프로그램 시작할 때 지정된 경로에 저장됨\n",
        "\n"
      ]
    },
    {
      "metadata": {
        "id": "mz2hfoVRryb6",
        "colab_type": "text"
      },
      "cell_type": "markdown",
      "source": [
        "## classify_image.py 다운로드"
      ]
    },
    {
      "metadata": {
        "id": "Gjaeu3Xxri_y",
        "colab_type": "code",
        "colab": {}
      },
      "cell_type": "code",
      "source": [
        "!rm classify*.*\n",
        "!wget https://raw.githubusercontent.com/tensorflow/models/master/tutorials/image/imagenet/classify_image.py\n",
        "!ls -al"
      ],
      "execution_count": 0,
      "outputs": []
    },
    {
      "metadata": {
        "id": "cEEmX7r_tKU6",
        "colab_type": "text"
      },
      "cell_type": "markdown",
      "source": [
        "## 이미지분류기 실행\n",
        "\n",
        "별다른 이미지입력이 없으면 내장된  판다사진을 사용하여 알고리즘 동작\n",
        "\n",
        "\n",
        "![기본이미지](https://github.com/jaeyong1/deeplearningforus/blob/master/images/cropped_panda.jpg?raw=true)\n"
      ]
    },
    {
      "metadata": {
        "id": "cW8pz_gDsHWR",
        "colab_type": "code",
        "colab": {}
      },
      "cell_type": "code",
      "source": [
        "!python classify_image.py"
      ],
      "execution_count": 0,
      "outputs": []
    },
    {
      "metadata": {
        "id": "xzlhTmFlu8k8",
        "colab_type": "text"
      },
      "cell_type": "markdown",
      "source": [
        "## 실행중 다운된 파일 확인\n",
        "\n",
        "\n",
        " 기본경로 /tmp/imagenet 에 다운로드 된 파일\n",
        " \n",
        " 1. inception-2015-12-05.tgz 파일이 실제로 다운로드 된 파일,  나머지는 이 파일의 압축을 해제하여 나온 파일\n",
        " \n",
        "2. classify_image_graph_def.pb 파일은 GraphDef 프로토콜 버퍼의 바이너리 파일\n",
        " \n",
        "3. imagenet_synset_to_human_label_map.txt 파일은 synset ID에서 사람이 읽을 수 있는 문자열로 매핑 하는 파일\n",
        "\n",
        "4. imagenet_2012_challenge_label_map_proto.pbtxt 파일은 레이블을 synset ID에 매핑 할 때 사용하는 프로토콜 버퍼를 위한 파일\n",
        "\n",
        "5. cropped_panda.jpg는 샘플입력용 판다 사진"
      ]
    },
    {
      "metadata": {
        "id": "IETf7KKCvDbK",
        "colab_type": "code",
        "colab": {}
      },
      "cell_type": "code",
      "source": [
        "!ls -al /tmp/imagenet"
      ],
      "execution_count": 0,
      "outputs": []
    },
    {
      "metadata": {
        "id": "omn3j6m-vaoV",
        "colab_type": "text"
      },
      "cell_type": "markdown",
      "source": [
        "## 옵션을 활용한 실행\n",
        "\n",
        "--model_dir : 파일다운로드 경로\n",
        "\n",
        "--image_file : 입력 이미지 경로 \n",
        "\n",
        "--num_top_predictions : 출력할 정답 개수\n",
        "\n",
        "예)\n",
        "\n",
        "python classify_image.py --image_file=dog.jpg --num_top_predictions=1\n",
        "\n",
        "\n",
        "테스트 입력이미지 (puppy.jpg)\n",
        "\n",
        "![puppy.jpg](https://raw.githubusercontent.com/jaeyong1/deeplearningforus/master/images/puppy.jpg)\n",
        "\n",
        "\n",
        "\n"
      ]
    },
    {
      "metadata": {
        "id": "wcatQ_0ex6XG",
        "colab_type": "code",
        "colab": {}
      },
      "cell_type": "code",
      "source": [
        "!wget https://raw.githubusercontent.com/jaeyong1/deeplearningforus/master/images/puppy.jpg\n",
        "!python classify_image.py --image_file=puppy.jpg --num_top_predictions=1"
      ],
      "execution_count": 0,
      "outputs": []
    }
  ]
}