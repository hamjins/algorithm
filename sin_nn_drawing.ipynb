{
  "nbformat": 4,
  "nbformat_minor": 0,
  "metadata": {
    "colab": {
      "name": "sin_nn_drawing.ipynb",
      "version": "0.3.2",
      "provenance": [],
      "collapsed_sections": [],
      "include_colab_link": true
    },
    "kernelspec": {
      "name": "python3",
      "display_name": "Python 3"
    }
  },
  "cells": [
    {
      "cell_type": "markdown",
      "metadata": {
        "id": "view-in-github",
        "colab_type": "text"
      },
      "source": [
        "<a href=\"https://colab.research.google.com/github/hamjins/algorithm/blob/master/sin_nn_drawing.ipynb\" target=\"_parent\"><img src=\"https://colab.research.google.com/assets/colab-badge.svg\" alt=\"Open In Colab\"/></a>"
      ]
    },
    {
      "metadata": {
        "id": "N12mQxx7B_xR",
        "colab_type": "text"
      },
      "cell_type": "markdown",
      "source": [
        "## 비선형 학습모델 실습(SIN 그래프)\n",
        "\n",
        "1. sin 함수를 기반으로 노이즈를 추가하여 랜덤한 데이터셋 생성 (비선형 데이터)\n",
        "\n",
        "2. 이를 데이터셋으로 뉴럴네트워크 학습\n",
        "\n",
        "3. 얼만큼 잘 맞추는지 그래프로 확인\n",
        "\n",
        "<뉴럴네트워크 구성>\n",
        "\n",
        "![뉴럴네트워크구성](https://github.com/jaeyong1/deeplearningforus/blob/master/images/sinnn.jpg?raw=true)\n"
      ]
    },
    {
      "metadata": {
        "id": "wVp0Bkw0Atj5",
        "colab_type": "code",
        "outputId": "21e6b76f-9cba-4d1f-aa4c-105cdb241c79",
        "colab": {
          "base_uri": "https://localhost:8080/",
          "height": 1769
        }
      },
      "cell_type": "code",
      "source": [
        "# -*- coding: utf-8 -*-\n",
        "\"\"\"\n",
        "Created on Fri Apr 20 23:25:01 2018\n",
        "\n",
        "@author: jynote\n",
        "\"\"\"\n",
        "\n",
        "import numpy as np\n",
        "import tensorflow as tf\n",
        "import matplotlib.pyplot as plt\n",
        "\n",
        "\n",
        "#데이터셋을 섞음(train/validation/test data set)\n",
        "def shuffle_data(x_train,y_train):\n",
        "  temp_index = np.arange(len(x_train))\n",
        "\n",
        "  #Random suffle index\n",
        "  np.random.shuffle(temp_index)\n",
        "\n",
        "  #Re-arrange x and y data with random shuffle index\n",
        "  x_temp = np.zeros(x_train.shape)\n",
        "  y_temp = np.zeros(y_train.shape)\n",
        "  x_temp = x_train[temp_index]\n",
        "  y_temp = y_train[temp_index]        \n",
        "\n",
        "  return x_temp, y_temp\n",
        "\n",
        "\n",
        "def main():\n",
        "  num_points = 5000 #(X,Y)데이터 개수\n",
        "  vectors_set = []\n",
        "  for i in range(num_points):\n",
        "      x1=np.random.normal(.0, 1.0)\n",
        "      y1=np.sin(x1) + np.random.normal(0.,0.1)\n",
        "      vectors_set.append([x1,y1])\n",
        "\n",
        "  x_data = [v[0] for v in vectors_set]\n",
        "  y_data = [v[1] for v in vectors_set]\n",
        "\n",
        "\n",
        "  #green색(g)에 둥근점(o)로 시각화\n",
        "  plt.plot(x_data, y_data, 'go')\n",
        "  plt.legend()\n",
        "  plt.show()\n",
        "\n",
        "  #배치 수행단위 \n",
        "  BATCH_SIZE = 100\n",
        "  BATCH_NUM = int(len(x_data)/BATCH_SIZE)\n",
        "\n",
        "  #데이터를 세로로(한개씩)나열한 형태로 reshape\n",
        "  x_data = np.reshape(x_data, [len(x_data),1])\n",
        "  y_data = np.reshape(y_data, [len(y_data),1])\n",
        "\n",
        "  #총 갯수는 정해지지않았고 1개씩 들어가는 Placeholder 생성\n",
        "  input_data = tf.placeholder(tf.float32, shape=[None,1])\n",
        "  output_data = tf.placeholder(tf.float32, shape=[None,1])\n",
        "\n",
        "  #레이어간 Weight 정의후 랜덤값으로 초기화. 그림에서는 선으로 표시.\n",
        "  W1 = tf.Variable(tf.random_uniform([1,5], -1.0, 1.0))\n",
        "  W2 = tf.Variable(tf.random_uniform([5,3], -1.0, 1.0))\n",
        "  W_out = tf.Variable(tf.random_uniform([3,1], -1.0, 1.0))\n",
        "\n",
        "  #레이어의 노드가 하는 계산. 이전노드와 현재노드의 곱셈. 비선형함수로 sigmoid 추가.\n",
        "  hidden1 = tf.nn.sigmoid(tf.matmul(input_data,W1))\n",
        "  hidden2 = tf.nn.sigmoid(tf.matmul(hidden1,W2))\n",
        "  output = tf.matmul(hidden2, W_out)\n",
        "\n",
        "  #비용함수, 최적화함수, train 정의\n",
        "  loss = tf.reduce_mean(tf.square(output-output_data))\n",
        "  optimizer = tf.train.AdamOptimizer(0.01)\n",
        "  train = optimizer.minimize(loss)\n",
        "\n",
        "  #변수(Variable) 사용준비\n",
        "  init = tf.global_variables_initializer()\n",
        "\n",
        "  #세션열고 init 실행\n",
        "  sess= tf.Session()\n",
        "  sess.run(init)\n",
        "\n",
        "\n",
        "  #5000회 학습을 반복하며 값 업데이트\n",
        "  for step in range(5000):\n",
        "    index = 0    \n",
        "    \n",
        "    #매번 데이터셋을 섞음\n",
        "    x_data, y_data = shuffle_data(x_data, y_data)\n",
        "    \n",
        "    #배치크기만큼 학습을 진행\n",
        "    for batch_iter in range(BATCH_NUM-1):\n",
        "        feed_dict = {input_data: x_data[index:index+BATCH_SIZE], output_data: y_data[index:index+BATCH_SIZE]} #origin\n",
        "        sess.run(train, feed_dict = feed_dict)\n",
        "        index += BATCH_SIZE\n",
        "\n",
        "    #화면에 학습진행상태 출력(최초100회까지는 10마다 한번씩, 이후는 100회에 한번씩)\n",
        "    if (step%100==0 or (step<100 and step%10==0)): \n",
        "        print(\"Step=%5d, Loss Value=%f\" %(step, sess.run(loss, feed_dict = feed_dict)))      \n",
        "\n",
        "\n",
        "  #5000번 학습이 끝난후 그래프로 결과확인\n",
        "  feed_dict = {input_data: x_data}\n",
        "  plt.plot(x_data, y_data, 'go') #학습 데이터는 green색(g)의 둥근점(o)로 시각화\n",
        "  plt.plot(x_data, sess.run(output, feed_dict=feed_dict), 'k*') #예측모델 출력은 검은색(k) 별표(*)로 시각화\n",
        "  plt.xlabel('x')\n",
        "  plt.xlim(-4,3)\n",
        "  plt.ylabel('y')\n",
        "  plt.ylim(-1.5,1.5)\n",
        "  plt.legend()\n",
        "  plt.show()\n",
        "  \n",
        "#main함수\n",
        "if __name__ == \"__main__\":\n",
        "  main()\n",
        "\n"
      ],
      "execution_count": 1,
      "outputs": [
        {
          "output_type": "stream",
          "text": [
            "No handles with labels found to put in legend.\n"
          ],
          "name": "stderr"
        },
        {
          "output_type": "display_data",
          "data": {
            "image/png": "[encoded data removed]",
            "text/plain": [
              "<matplotlib.figure.Figure at 0x7f099ca44908>"
            ]
          },
          "metadata": {
            "tags": []
          }
        },
        {
          "output_type": "stream",
          "text": [
            "Step=    0, Loss Value=0.247934\n",
            "Step=   10, Loss Value=0.018536\n",
            "Step=   20, Loss Value=0.012462\n",
            "Step=   30, Loss Value=0.013865\n",
            "Step=   40, Loss Value=0.021093\n",
            "Step=   50, Loss Value=0.010085\n",
            "Step=   60, Loss Value=0.012774\n",
            "Step=   70, Loss Value=0.010819\n",
            "Step=   80, Loss Value=0.013305\n",
            "Step=   90, Loss Value=0.011601\n",
            "Step=  100, Loss Value=0.012898\n",
            "Step=  200, Loss Value=0.010920\n",
            "Step=  300, Loss Value=0.011411\n",
            "Step=  400, Loss Value=0.014685\n",
            "Step=  500, Loss Value=0.011668\n",
            "Step=  600, Loss Value=0.024838\n",
            "Step=  700, Loss Value=0.013428\n",
            "Step=  800, Loss Value=0.014512\n",
            "Step=  900, Loss Value=0.014694\n",
            "Step= 1000, Loss Value=0.019419\n",
            "Step= 1100, Loss Value=0.014424\n",
            "Step= 1200, Loss Value=0.011424\n",
            "Step= 1300, Loss Value=0.021238\n",
            "Step= 1400, Loss Value=0.031186\n",
            "Step= 1500, Loss Value=0.026046\n",
            "Step= 1600, Loss Value=0.026556\n",
            "Step= 1700, Loss Value=0.023361\n",
            "Step= 1800, Loss Value=0.013540\n",
            "Step= 1900, Loss Value=0.018610\n",
            "Step= 2000, Loss Value=0.014237\n",
            "Step= 2100, Loss Value=0.030487\n",
            "Step= 2200, Loss Value=0.013759\n",
            "Step= 2300, Loss Value=0.015209\n",
            "Step= 2400, Loss Value=0.015786\n",
            "Step= 2500, Loss Value=0.021493\n",
            "Step= 2600, Loss Value=0.015492\n",
            "Step= 2700, Loss Value=0.011841\n",
            "Step= 2800, Loss Value=0.014349\n",
            "Step= 2900, Loss Value=0.011692\n",
            "Step= 3000, Loss Value=0.013141\n",
            "Step= 3100, Loss Value=0.046931\n",
            "Step= 3200, Loss Value=0.012372\n",
            "Step= 3300, Loss Value=0.014409\n",
            "Step= 3400, Loss Value=0.014340\n",
            "Step= 3500, Loss Value=0.014592\n",
            "Step= 3600, Loss Value=0.013897\n",
            "Step= 3700, Loss Value=0.025688\n",
            "Step= 3800, Loss Value=0.018288\n",
            "Step= 3900, Loss Value=0.015331\n",
            "Step= 4000, Loss Value=0.013361\n",
            "Step= 4100, Loss Value=0.008638\n",
            "Step= 4200, Loss Value=0.009317\n",
            "Step= 4300, Loss Value=0.011190\n",
            "Step= 4400, Loss Value=0.010504\n",
            "Step= 4500, Loss Value=0.009441\n",
            "Step= 4600, Loss Value=0.010524\n",
            "Step= 4700, Loss Value=0.012422\n",
            "Step= 4800, Loss Value=0.009234\n",
            "Step= 4900, Loss Value=0.009993\n"
          ],
          "name": "stdout"
        },
        {
          "output_type": "stream",
          "text": [
            "No handles with labels found to put in legend.\n"
          ],
          "name": "stderr"
        },
        {
          "output_type": "display_data",
          "data": {
            "image/png": "[encoded data removed]",
            "text/plain": [
              "<matplotlib.figure.Figure at 0x7f098af8f0f0>"
            ]
          },
          "metadata": {
            "tags": []
          }
        }
      ]
    }
  ]
}